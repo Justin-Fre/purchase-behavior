{
 "cells": [
  {
   "cell_type": "markdown",
   "id": "bf2146c0-42e1-4af9-8775-6dc2cc07f62e",
   "metadata": {},
   "source": [
    "# 1. Business problem"
   ]
  },
  {
   "cell_type": "raw",
   "id": "9a249ea4-29fb-4ab8-a0e8-ac9d2fed1000",
   "metadata": {},
   "source": [
    "About this file\n",
    "\n",
    "Add Suggestion\n",
    "This dataset provides information on customer spending habits, product categories, geographical locations, and revenue generated from sales\n",
    "\n",
    "Date: Date of the sale. (Date)\n",
    "Year: Year of the sale. (Integer)\n",
    "Month: Month of the sale. (Integer)\n",
    "Customer Age: Age of the customer. (Integer)\n",
    "Customer Gender: Gender of the customer. (String)\n",
    "Country: Country of the customer. (String)\n",
    "State: State of the customer. (String)\n",
    "Product Category: Category of the product. (String)\n",
    "Sub Category: Sub-category of the product. (String)\n",
    "Quantity: Quantity of the product sold/purchased. (Integer)\n",
    "Unit Cost: Cost of the product per unit. (Float)\n",
    "Unit Cost: Cost of the product per unit. (Float)\n",
    "Unit Price: Price of the product per unit. (Float)\n",
    "Revenue: Total revenue generated from the sale. (Float)\n",
    "Column1: Unknown. (Unknown)"
   ]
  },
  {
   "cell_type": "markdown",
   "id": "d3f26a7f-ed4d-4594-baba-8cadfa28bf19",
   "metadata": {},
   "source": [
    "# 2. Load data"
   ]
  },
  {
   "cell_type": "markdown",
   "id": "2dd41879-0eb0-4a2c-b36d-1e33f0a04c0e",
   "metadata": {},
   "source": [
    "## 2.1. Input data"
   ]
  },
  {
   "cell_type": "code",
   "execution_count": 25,
   "id": "51525a18-fb98-42eb-9e0d-3f3ed48a848d",
   "metadata": {},
   "outputs": [
    {
     "data": {
      "text/html": [
       "<div>\n",
       "<style scoped>\n",
       "    .dataframe tbody tr th:only-of-type {\n",
       "        vertical-align: middle;\n",
       "    }\n",
       "\n",
       "    .dataframe tbody tr th {\n",
       "        vertical-align: top;\n",
       "    }\n",
       "\n",
       "    .dataframe thead th {\n",
       "        text-align: right;\n",
       "    }\n",
       "</style>\n",
       "<table border=\"1\" class=\"dataframe\">\n",
       "  <thead>\n",
       "    <tr style=\"text-align: right;\">\n",
       "      <th></th>\n",
       "      <th>index</th>\n",
       "      <th>Date</th>\n",
       "      <th>Year</th>\n",
       "      <th>Month</th>\n",
       "      <th>Customer Age</th>\n",
       "      <th>Customer Gender</th>\n",
       "      <th>Country</th>\n",
       "      <th>State</th>\n",
       "      <th>Product Category</th>\n",
       "      <th>Sub Category</th>\n",
       "      <th>Quantity</th>\n",
       "      <th>Unit Cost</th>\n",
       "      <th>Unit Price</th>\n",
       "      <th>Cost</th>\n",
       "      <th>Revenue</th>\n",
       "    </tr>\n",
       "  </thead>\n",
       "  <tbody>\n",
       "    <tr>\n",
       "      <th>0</th>\n",
       "      <td>0</td>\n",
       "      <td>2/19/16</td>\n",
       "      <td>2016.0</td>\n",
       "      <td>February</td>\n",
       "      <td>29.0</td>\n",
       "      <td>F</td>\n",
       "      <td>United States</td>\n",
       "      <td>Washington</td>\n",
       "      <td>Accessories</td>\n",
       "      <td>Tires and Tubes</td>\n",
       "      <td>1.0</td>\n",
       "      <td>80.00</td>\n",
       "      <td>109.000000</td>\n",
       "      <td>80.0</td>\n",
       "      <td>109.0</td>\n",
       "    </tr>\n",
       "    <tr>\n",
       "      <th>1</th>\n",
       "      <td>1</td>\n",
       "      <td>2/20/16</td>\n",
       "      <td>2016.0</td>\n",
       "      <td>February</td>\n",
       "      <td>29.0</td>\n",
       "      <td>F</td>\n",
       "      <td>United States</td>\n",
       "      <td>Washington</td>\n",
       "      <td>Clothing</td>\n",
       "      <td>Gloves</td>\n",
       "      <td>2.0</td>\n",
       "      <td>24.50</td>\n",
       "      <td>28.500000</td>\n",
       "      <td>49.0</td>\n",
       "      <td>57.0</td>\n",
       "    </tr>\n",
       "    <tr>\n",
       "      <th>2</th>\n",
       "      <td>2</td>\n",
       "      <td>2/27/16</td>\n",
       "      <td>2016.0</td>\n",
       "      <td>February</td>\n",
       "      <td>29.0</td>\n",
       "      <td>F</td>\n",
       "      <td>United States</td>\n",
       "      <td>Washington</td>\n",
       "      <td>Accessories</td>\n",
       "      <td>Tires and Tubes</td>\n",
       "      <td>3.0</td>\n",
       "      <td>3.67</td>\n",
       "      <td>5.000000</td>\n",
       "      <td>11.0</td>\n",
       "      <td>15.0</td>\n",
       "    </tr>\n",
       "    <tr>\n",
       "      <th>3</th>\n",
       "      <td>3</td>\n",
       "      <td>3/12/16</td>\n",
       "      <td>2016.0</td>\n",
       "      <td>March</td>\n",
       "      <td>29.0</td>\n",
       "      <td>F</td>\n",
       "      <td>United States</td>\n",
       "      <td>Washington</td>\n",
       "      <td>Accessories</td>\n",
       "      <td>Tires and Tubes</td>\n",
       "      <td>2.0</td>\n",
       "      <td>87.50</td>\n",
       "      <td>116.500000</td>\n",
       "      <td>175.0</td>\n",
       "      <td>233.0</td>\n",
       "    </tr>\n",
       "    <tr>\n",
       "      <th>4</th>\n",
       "      <td>4</td>\n",
       "      <td>3/12/16</td>\n",
       "      <td>2016.0</td>\n",
       "      <td>March</td>\n",
       "      <td>29.0</td>\n",
       "      <td>F</td>\n",
       "      <td>United States</td>\n",
       "      <td>Washington</td>\n",
       "      <td>Accessories</td>\n",
       "      <td>Tires and Tubes</td>\n",
       "      <td>3.0</td>\n",
       "      <td>35.00</td>\n",
       "      <td>41.666667</td>\n",
       "      <td>105.0</td>\n",
       "      <td>125.0</td>\n",
       "    </tr>\n",
       "  </tbody>\n",
       "</table>\n",
       "</div>"
      ],
      "text/plain": [
       "   index     Date    Year     Month  Customer Age Customer Gender   \n",
       "0      0  2/19/16  2016.0  February          29.0               F  \\\n",
       "1      1  2/20/16  2016.0  February          29.0               F   \n",
       "2      2  2/27/16  2016.0  February          29.0               F   \n",
       "3      3  3/12/16  2016.0     March          29.0               F   \n",
       "4      4  3/12/16  2016.0     March          29.0               F   \n",
       "\n",
       "         Country       State Product Category     Sub Category  Quantity   \n",
       "0  United States  Washington      Accessories  Tires and Tubes       1.0  \\\n",
       "1  United States  Washington         Clothing           Gloves       2.0   \n",
       "2  United States  Washington      Accessories  Tires and Tubes       3.0   \n",
       "3  United States  Washington      Accessories  Tires and Tubes       2.0   \n",
       "4  United States  Washington      Accessories  Tires and Tubes       3.0   \n",
       "\n",
       "   Unit Cost  Unit Price   Cost  Revenue  \n",
       "0      80.00  109.000000   80.0    109.0  \n",
       "1      24.50   28.500000   49.0     57.0  \n",
       "2       3.67    5.000000   11.0     15.0  \n",
       "3      87.50  116.500000  175.0    233.0  \n",
       "4      35.00   41.666667  105.0    125.0  "
      ]
     },
     "execution_count": 25,
     "metadata": {},
     "output_type": "execute_result"
    }
   ],
   "source": [
    "import pandas as pd\n",
    "import numpy as np\n",
    "import matplotlib.pyplot as plt\n",
    "import seaborn as sns\n",
    "\n",
    "path = '/Users/mac/Desktop/Project/upsale/SalesForCourse_quizz_table.csv'\n",
    "\n",
    "df = pd.read_csv(path)\n",
    "\n",
    "df.head()"
   ]
  },
  {
   "cell_type": "code",
   "execution_count": 26,
   "id": "01c1b7a4-2378-44d5-a048-4fdfd039b565",
   "metadata": {},
   "outputs": [
    {
     "data": {
      "text/plain": [
       "(34867, 15)"
      ]
     },
     "execution_count": 26,
     "metadata": {},
     "output_type": "execute_result"
    }
   ],
   "source": [
    "df.shape"
   ]
  },
  {
   "cell_type": "code",
   "execution_count": 27,
   "id": "e62fce5f-bedc-4e3f-a98e-89705ea4b39e",
   "metadata": {},
   "outputs": [
    {
     "name": "stdout",
     "output_type": "stream",
     "text": [
      "                   dtypes  unique  null\n",
      "index               int64   34867     0\n",
      "Date               object     576     1\n",
      "Year              float64       2     1\n",
      "Month              object      12     1\n",
      "Customer Age      float64      70     1\n",
      "Customer Gender    object       2     1\n",
      "Country            object       4     1\n",
      "State              object      45     1\n",
      "Product Category   object       3     1\n",
      "Sub Category       object      17     1\n",
      "Quantity          float64       3     1\n",
      "Unit Cost         float64     882     1\n",
      "Unit Price        float64    5175     1\n",
      "Cost              float64     417     1\n",
      "Revenue           float64    3023     0\n"
     ]
    }
   ],
   "source": [
    "df_infor = pd.DataFrame(df.dtypes,columns = ['dtypes'])\n",
    "df_infor['unique'] = df.nunique().values\n",
    "df_infor['null'] = df.isnull().sum().values\n",
    "print(df_infor)\n"
   ]
  },
  {
   "cell_type": "markdown",
   "id": "87bde320-a196-48b8-ae60-2be1ed84c141",
   "metadata": {},
   "source": [
    "## 2.2. Clean data"
   ]
  },
  {
   "cell_type": "code",
   "execution_count": 28,
   "id": "ddf557df-1b83-4248-87ed-6273554d9103",
   "metadata": {},
   "outputs": [],
   "source": [
    "df_cleaned = df.dropna()"
   ]
  },
  {
   "cell_type": "code",
   "execution_count": 29,
   "id": "0dfeb4e7-58d3-4c81-a061-c36bd3741f98",
   "metadata": {},
   "outputs": [
    {
     "name": "stdout",
     "output_type": "stream",
     "text": [
      "                   dtypes  unique  null\n",
      "index               int64   34866     0\n",
      "Date               object     576     0\n",
      "Year              float64       2     0\n",
      "Month              object      12     0\n",
      "Customer Age      float64      70     0\n",
      "Customer Gender    object       2     0\n",
      "Country            object       4     0\n",
      "State              object      45     0\n",
      "Product Category   object       3     0\n",
      "Sub Category       object      17     0\n",
      "Quantity          float64       3     0\n",
      "Unit Cost         float64     882     0\n",
      "Unit Price        float64    5175     0\n",
      "Cost              float64     417     0\n",
      "Revenue           float64    3022     0\n"
     ]
    }
   ],
   "source": [
    "df_infor = pd.DataFrame(df_cleaned.dtypes,columns = ['dtypes'])\n",
    "df_infor['unique'] = df_cleaned.nunique().values\n",
    "df_infor['null'] = df_cleaned.isnull().sum().values\n",
    "print(df_infor)"
   ]
  },
  {
   "cell_type": "code",
   "execution_count": 30,
   "id": "12d0193b-ce56-4261-8904-7d05f1d81445",
   "metadata": {},
   "outputs": [
    {
     "name": "stderr",
     "output_type": "stream",
     "text": [
      "/var/folders/h5/nmfc3kr55375y_h4_5k7n7nh0000gn/T/ipykernel_1379/1770713889.py:2: SettingWithCopyWarning: \n",
      "A value is trying to be set on a copy of a slice from a DataFrame\n",
      "\n",
      "See the caveats in the documentation: https://pandas.pydata.org/pandas-docs/stable/user_guide/indexing.html#returning-a-view-versus-a-copy\n",
      "  df_cleaned.drop_duplicates(inplace = True)\n"
     ]
    }
   ],
   "source": [
    "# Removing duplicates\n",
    "df_cleaned.drop_duplicates(inplace = True)"
   ]
  },
  {
   "cell_type": "code",
   "execution_count": 32,
   "id": "a0436ea1-d131-4edb-9d48-ae150633b6e2",
   "metadata": {},
   "outputs": [],
   "source": [
    "df_cleaned.loc[:, 'Profit'] = df_cleaned['Revenue'] - df_cleaned['Cost']"
   ]
  },
  {
   "cell_type": "code",
   "execution_count": 34,
   "id": "8285bbf9-88a4-4ace-a3b3-f4514f78bcd7",
   "metadata": {},
   "outputs": [],
   "source": [
    "df_cleaned = df_cleaned.drop(columns = 'index', axis = 1)"
   ]
  },
  {
   "cell_type": "code",
   "execution_count": 37,
   "id": "00fa4510-2805-4a6b-800c-9a8082cc144e",
   "metadata": {},
   "outputs": [
    {
     "data": {
      "text/html": [
       "<div>\n",
       "<style scoped>\n",
       "    .dataframe tbody tr th:only-of-type {\n",
       "        vertical-align: middle;\n",
       "    }\n",
       "\n",
       "    .dataframe tbody tr th {\n",
       "        vertical-align: top;\n",
       "    }\n",
       "\n",
       "    .dataframe thead th {\n",
       "        text-align: right;\n",
       "    }\n",
       "</style>\n",
       "<table border=\"1\" class=\"dataframe\">\n",
       "  <thead>\n",
       "    <tr style=\"text-align: right;\">\n",
       "      <th></th>\n",
       "      <th>Date</th>\n",
       "      <th>Year</th>\n",
       "      <th>Month</th>\n",
       "      <th>Customer Age</th>\n",
       "      <th>Customer Gender</th>\n",
       "      <th>Country</th>\n",
       "      <th>State</th>\n",
       "      <th>Product Category</th>\n",
       "      <th>Sub Category</th>\n",
       "      <th>Quantity</th>\n",
       "      <th>Unit Cost</th>\n",
       "      <th>Unit Price</th>\n",
       "      <th>Cost</th>\n",
       "      <th>Revenue</th>\n",
       "      <th>Profit</th>\n",
       "    </tr>\n",
       "  </thead>\n",
       "  <tbody>\n",
       "    <tr>\n",
       "      <th>0</th>\n",
       "      <td>2/19/16</td>\n",
       "      <td>2016.0</td>\n",
       "      <td>February</td>\n",
       "      <td>29.0</td>\n",
       "      <td>F</td>\n",
       "      <td>United States</td>\n",
       "      <td>Washington</td>\n",
       "      <td>Accessories</td>\n",
       "      <td>Tires and Tubes</td>\n",
       "      <td>1.0</td>\n",
       "      <td>80.00</td>\n",
       "      <td>109.000000</td>\n",
       "      <td>80.0</td>\n",
       "      <td>109.0</td>\n",
       "      <td>29.0</td>\n",
       "    </tr>\n",
       "    <tr>\n",
       "      <th>1</th>\n",
       "      <td>2/20/16</td>\n",
       "      <td>2016.0</td>\n",
       "      <td>February</td>\n",
       "      <td>29.0</td>\n",
       "      <td>F</td>\n",
       "      <td>United States</td>\n",
       "      <td>Washington</td>\n",
       "      <td>Clothing</td>\n",
       "      <td>Gloves</td>\n",
       "      <td>2.0</td>\n",
       "      <td>24.50</td>\n",
       "      <td>28.500000</td>\n",
       "      <td>49.0</td>\n",
       "      <td>57.0</td>\n",
       "      <td>8.0</td>\n",
       "    </tr>\n",
       "    <tr>\n",
       "      <th>2</th>\n",
       "      <td>2/27/16</td>\n",
       "      <td>2016.0</td>\n",
       "      <td>February</td>\n",
       "      <td>29.0</td>\n",
       "      <td>F</td>\n",
       "      <td>United States</td>\n",
       "      <td>Washington</td>\n",
       "      <td>Accessories</td>\n",
       "      <td>Tires and Tubes</td>\n",
       "      <td>3.0</td>\n",
       "      <td>3.67</td>\n",
       "      <td>5.000000</td>\n",
       "      <td>11.0</td>\n",
       "      <td>15.0</td>\n",
       "      <td>4.0</td>\n",
       "    </tr>\n",
       "    <tr>\n",
       "      <th>3</th>\n",
       "      <td>3/12/16</td>\n",
       "      <td>2016.0</td>\n",
       "      <td>March</td>\n",
       "      <td>29.0</td>\n",
       "      <td>F</td>\n",
       "      <td>United States</td>\n",
       "      <td>Washington</td>\n",
       "      <td>Accessories</td>\n",
       "      <td>Tires and Tubes</td>\n",
       "      <td>2.0</td>\n",
       "      <td>87.50</td>\n",
       "      <td>116.500000</td>\n",
       "      <td>175.0</td>\n",
       "      <td>233.0</td>\n",
       "      <td>58.0</td>\n",
       "    </tr>\n",
       "    <tr>\n",
       "      <th>4</th>\n",
       "      <td>3/12/16</td>\n",
       "      <td>2016.0</td>\n",
       "      <td>March</td>\n",
       "      <td>29.0</td>\n",
       "      <td>F</td>\n",
       "      <td>United States</td>\n",
       "      <td>Washington</td>\n",
       "      <td>Accessories</td>\n",
       "      <td>Tires and Tubes</td>\n",
       "      <td>3.0</td>\n",
       "      <td>35.00</td>\n",
       "      <td>41.666667</td>\n",
       "      <td>105.0</td>\n",
       "      <td>125.0</td>\n",
       "      <td>20.0</td>\n",
       "    </tr>\n",
       "  </tbody>\n",
       "</table>\n",
       "</div>"
      ],
      "text/plain": [
       "      Date    Year     Month  Customer Age Customer Gender        Country   \n",
       "0  2/19/16  2016.0  February          29.0               F  United States  \\\n",
       "1  2/20/16  2016.0  February          29.0               F  United States   \n",
       "2  2/27/16  2016.0  February          29.0               F  United States   \n",
       "3  3/12/16  2016.0     March          29.0               F  United States   \n",
       "4  3/12/16  2016.0     March          29.0               F  United States   \n",
       "\n",
       "        State Product Category     Sub Category  Quantity  Unit Cost   \n",
       "0  Washington      Accessories  Tires and Tubes       1.0      80.00  \\\n",
       "1  Washington         Clothing           Gloves       2.0      24.50   \n",
       "2  Washington      Accessories  Tires and Tubes       3.0       3.67   \n",
       "3  Washington      Accessories  Tires and Tubes       2.0      87.50   \n",
       "4  Washington      Accessories  Tires and Tubes       3.0      35.00   \n",
       "\n",
       "   Unit Price   Cost  Revenue  Profit  \n",
       "0  109.000000   80.0    109.0    29.0  \n",
       "1   28.500000   49.0     57.0     8.0  \n",
       "2    5.000000   11.0     15.0     4.0  \n",
       "3  116.500000  175.0    233.0    58.0  \n",
       "4   41.666667  105.0    125.0    20.0  "
      ]
     },
     "execution_count": 37,
     "metadata": {},
     "output_type": "execute_result"
    }
   ],
   "source": [
    "df_cleaned.head()"
   ]
  },
  {
   "cell_type": "markdown",
   "id": "3e9ad954-6ae8-479f-bb72-dcfb68dcdf1e",
   "metadata": {},
   "source": [
    "# 3. EDA"
   ]
  },
  {
   "cell_type": "markdown",
   "id": "ac2397d2-448f-468e-b7cd-6fea9694144f",
   "metadata": {},
   "source": [
    "### 3.1. ANALYSIS RFM(RECENCY, FREQUENCY, MONETARY)"
   ]
  },
  {
   "cell_type": "code",
   "execution_count": 43,
   "id": "d96a70e0-0cb4-4b3d-b81e-9dfc0a283d7a",
   "metadata": {},
   "outputs": [
    {
     "name": "stdout",
     "output_type": "stream",
     "text": [
      "  Product Category  Recency  Frequency  MonetaryValue\n",
      "0      Accessories        1      22534      1378769.0\n",
      "1            Bikes       32       7093       337601.0\n",
      "2         Clothing        1       5239       545232.0\n"
     ]
    },
    {
     "name": "stderr",
     "output_type": "stream",
     "text": [
      "/var/folders/h5/nmfc3kr55375y_h4_5k7n7nh0000gn/T/ipykernel_1379/1148452997.py:4: UserWarning: Could not infer format, so each element will be parsed individually, falling back to `dateutil`. To ensure parsing is consistent and as-expected, please specify a format.\n",
      "  df_cleaned['Date'] = pd.to_datetime(df_cleaned['Date'])\n"
     ]
    }
   ],
   "source": [
    "import pandas as pd\n",
    "\n",
    "# Giả sử df_cleaned đã được định nghĩa trước đó và cột 'Date' là kiểu datetime\n",
    "df_cleaned['Date'] = pd.to_datetime(df_cleaned['Date'])\n",
    "\n",
    "# Tính latest_date\n",
    "latest_date = df_cleaned['Date'].max() + pd.Timedelta(days=1)\n",
    "\n",
    "# Nhóm và tính toán RFM\n",
    "rfm = df_cleaned.groupby('Product Category').agg({\n",
    "    'Date': lambda x: (latest_date - x.max()).days,\n",
    "    'Quantity': 'count',\n",
    "    'Profit': 'sum'\n",
    "}).reset_index()\n",
    "\n",
    "# Đổi tên cột\n",
    "rfm.rename(columns={\n",
    "    'Date': 'Recency',\n",
    "    'Quantity': 'Frequency',\n",
    "    'Profit': 'MonetaryValue'\n",
    "}, inplace=True)\n",
    "\n",
    "print(rfm)"
   ]
  },
  {
   "cell_type": "markdown",
   "id": "cdb3ec86-01ef-42ca-ac79-db4dcdf26bf8",
   "metadata": {},
   "source": [
    "### 3.2. Data Standardization"
   ]
  },
  {
   "cell_type": "code",
   "execution_count": 44,
   "id": "776f191b-deb8-47d1-8f6f-c17c0096a15a",
   "metadata": {},
   "outputs": [
    {
     "ename": "ModuleNotFoundError",
     "evalue": "No module named 'sklearn'",
     "output_type": "error",
     "traceback": [
      "\u001b[0;31m---------------------------------------------------------------------------\u001b[0m",
      "\u001b[0;31mModuleNotFoundError\u001b[0m                       Traceback (most recent call last)",
      "Cell \u001b[0;32mIn[44], line 1\u001b[0m\n\u001b[0;32m----> 1\u001b[0m \u001b[38;5;28;01mfrom\u001b[39;00m \u001b[38;5;21;01msklearn\u001b[39;00m\u001b[38;5;21;01m.\u001b[39;00m\u001b[38;5;21;01mpreprocessing\u001b[39;00m \u001b[38;5;28;01mimport\u001b[39;00m StandardScaler\n\u001b[1;32m      2\u001b[0m scaler \u001b[38;5;241m=\u001b[39m StandardScaler()\n\u001b[1;32m      3\u001b[0m rfm_scaled \u001b[38;5;241m=\u001b[39m scaler\u001b[38;5;241m.\u001b[39mfit_transform(rfm[[\u001b[38;5;124m'\u001b[39m\u001b[38;5;124mRecency\u001b[39m\u001b[38;5;124m'\u001b[39m, \u001b[38;5;124m'\u001b[39m\u001b[38;5;124mFrequency\u001b[39m\u001b[38;5;124m'\u001b[39m, \u001b[38;5;124m'\u001b[39m\u001b[38;5;124mMonetaryValue\u001b[39m\u001b[38;5;124m'\u001b[39m]])\n",
      "\u001b[0;31mModuleNotFoundError\u001b[0m: No module named 'sklearn'"
     ]
    }
   ],
   "source": [
    "from sklearn.preprocessing import StandardScaler\n",
    "scaler = StandardScaler()\n",
    "rfm_scaled = scaler.fit_transform(rfm[['Recency', 'Frequency', 'MonetaryValue']])\n",
    "\n",
    "rfm_scaled"
   ]
  },
  {
   "cell_type": "code",
   "execution_count": 45,
   "id": "bb785b1f-ba6a-409f-a59a-ea5ce78a8a95",
   "metadata": {},
   "outputs": [
    {
     "name": "stdout",
     "output_type": "stream",
     "text": [
      "Collecting sklearn\n",
      "  Downloading sklearn-0.0.post12.tar.gz (2.6 kB)\n",
      "  Preparing metadata (setup.py) ... \u001b[?25lerror\n",
      "  \u001b[1;31merror\u001b[0m: \u001b[1msubprocess-exited-with-error\u001b[0m\n",
      "  \n",
      "  \u001b[31m×\u001b[0m \u001b[32mpython setup.py egg_info\u001b[0m did not run successfully.\n",
      "  \u001b[31m│\u001b[0m exit code: \u001b[1;36m1\u001b[0m\n",
      "  \u001b[31m╰─>\u001b[0m \u001b[31m[15 lines of output]\u001b[0m\n",
      "  \u001b[31m   \u001b[0m The 'sklearn' PyPI package is deprecated, use 'scikit-learn'\n",
      "  \u001b[31m   \u001b[0m rather than 'sklearn' for pip commands.\n",
      "  \u001b[31m   \u001b[0m \n",
      "  \u001b[31m   \u001b[0m Here is how to fix this error in the main use cases:\n",
      "  \u001b[31m   \u001b[0m - use 'pip install scikit-learn' rather than 'pip install sklearn'\n",
      "  \u001b[31m   \u001b[0m - replace 'sklearn' by 'scikit-learn' in your pip requirements files\n",
      "  \u001b[31m   \u001b[0m   (requirements.txt, setup.py, setup.cfg, Pipfile, etc ...)\n",
      "  \u001b[31m   \u001b[0m - if the 'sklearn' package is used by one of your dependencies,\n",
      "  \u001b[31m   \u001b[0m   it would be great if you take some time to track which package uses\n",
      "  \u001b[31m   \u001b[0m   'sklearn' instead of 'scikit-learn' and report it to their issue tracker\n",
      "  \u001b[31m   \u001b[0m - as a last resort, set the environment variable\n",
      "  \u001b[31m   \u001b[0m   SKLEARN_ALLOW_DEPRECATED_SKLEARN_PACKAGE_INSTALL=True to avoid this error\n",
      "  \u001b[31m   \u001b[0m \n",
      "  \u001b[31m   \u001b[0m More information is available at\n",
      "  \u001b[31m   \u001b[0m https://github.com/scikit-learn/sklearn-pypi-package\n",
      "  \u001b[31m   \u001b[0m \u001b[31m[end of output]\u001b[0m\n",
      "  \n",
      "  \u001b[1;35mnote\u001b[0m: This error originates from a subprocess, and is likely not a problem with pip.\n",
      "\u001b[1;31merror\u001b[0m: \u001b[1mmetadata-generation-failed\u001b[0m\n",
      "\n",
      "\u001b[31m×\u001b[0m Encountered error while generating package metadata.\n",
      "\u001b[31m╰─>\u001b[0m See above for output.\n",
      "\n",
      "\u001b[1;35mnote\u001b[0m: This is an issue with the package mentioned above, not pip.\n",
      "\u001b[1;36mhint\u001b[0m: See above for details.\n",
      "\u001b[?25hNote: you may need to restart the kernel to use updated packages.\n"
     ]
    }
   ],
   "source": [
    "pip install sklearn"
   ]
  },
  {
   "cell_type": "code",
   "execution_count": null,
   "id": "545f5615-91f4-4faf-a0ef-4e1cadba0f78",
   "metadata": {},
   "outputs": [],
   "source": []
  }
 ],
 "metadata": {
  "kernelspec": {
   "display_name": "Python 3 (ipykernel)",
   "language": "python",
   "name": "python3"
  },
  "language_info": {
   "codemirror_mode": {
    "name": "ipython",
    "version": 3
   },
   "file_extension": ".py",
   "mimetype": "text/x-python",
   "name": "python",
   "nbconvert_exporter": "python",
   "pygments_lexer": "ipython3",
   "version": "3.8.19"
  }
 },
 "nbformat": 4,
 "nbformat_minor": 5
}
